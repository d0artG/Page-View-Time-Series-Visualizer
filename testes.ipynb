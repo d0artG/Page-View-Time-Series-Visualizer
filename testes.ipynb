{
  "nbformat": 4,
  "nbformat_minor": 0,
  "metadata": {
    "colab": {
      "provenance": [],
      "authorship_tag": "ABX9TyNiMMM366H7ImVpmyctWN7R",
      "include_colab_link": true
    },
    "kernelspec": {
      "name": "python3",
      "display_name": "Python 3"
    },
    "language_info": {
      "name": "python"
    }
  },
  "cells": [
    {
      "cell_type": "markdown",
      "metadata": {
        "id": "view-in-github",
        "colab_type": "text"
      },
      "source": [
        "<a href=\"https://colab.research.google.com/github/d0artG/Page-View-Time-Series-Visualizer/blob/main/testes.ipynb\" target=\"_parent\"><img src=\"https://colab.research.google.com/assets/colab-badge.svg\" alt=\"Open In Colab\"/></a>"
      ]
    },
    {
      "cell_type": "code",
      "execution_count": 1,
      "metadata": {
        "id": "lB3Flw5uP7xu"
      },
      "outputs": [],
      "source": [
        "import matplotlib.pyplot as plt\n",
        "import pandas as pd\n",
        "import seaborn as sns\n",
        "from pandas.plotting import register_matplotlib_converters\n",
        "register_matplotlib_converters()\n"
      ]
    },
    {
      "cell_type": "code",
      "source": [
        "# Import data (Make sure to parse dates. Consider setting index column to 'date'.)\n",
        "df = pd.read_csv(\"fcc-forum-pageviews.csv\", index_col=0, parse_dates = True, names=[\"date\",\"views\"], header=0)\n",
        "\n",
        "# Clean data\n",
        "df = df.drop(df[(df['views'] > df['views'].quantile(0.975)) |(df['views'] < df['views'].quantile(0.025))].index)\n"
      ],
      "metadata": {
        "id": "QTKBb5RVLD1E"
      },
      "execution_count": 21,
      "outputs": []
    },
    {
      "cell_type": "code",
      "source": [
        "def draw_line_plot():\n",
        "    # Draw line plot\n",
        "    fig,ax=plt.subplots()\n",
        "    ax=plt.plot(df.index,df[\"views\"])\n",
        "    plt.title(\"Daily freeCodeCamp Forum Page Views 5/2016-12/2019\")\n",
        "    plt.xlabel(\"Date\")\n",
        "    plt.ylabel(\"Page Views\")\n",
        "\n",
        "    # Save image and return fig (don't change this part)\n",
        "    fig.savefig('line_plot.png')\n",
        "    return fig"
      ],
      "metadata": {
        "id": "gkXaEGBdLFrG"
      },
      "execution_count": 23,
      "outputs": []
    },
    {
      "cell_type": "code",
      "source": [],
      "metadata": {
        "id": "Oo6P7lwEQux8"
      },
      "execution_count": null,
      "outputs": []
    },
    {
      "cell_type": "code",
      "source": [
        "def draw_bar_plot():\n",
        "    # Copy and modify data for monthly bar plot\n",
        "    df_bar = None\n",
        "\n",
        "    # Draw bar plot\n",
        "\n",
        "\n",
        "\n",
        "\n",
        "\n",
        "    # Save image and return fig (don't change this part)\n",
        "    fig.savefig('bar_plot.png')\n",
        "    return fig"
      ],
      "metadata": {
        "id": "BkEaZmUaQmkk"
      },
      "execution_count": null,
      "outputs": []
    }
  ]
}